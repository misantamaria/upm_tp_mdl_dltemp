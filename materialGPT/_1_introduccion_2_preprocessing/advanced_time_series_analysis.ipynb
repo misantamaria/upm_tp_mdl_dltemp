{
 "cells": [
  {
   "cell_type": "markdown",
   "id": "2135d724",
   "metadata": {},
   "source": [
    "# Advanced Time Series Analysis\n",
    "Explore advanced EDA techniques for time series data."
   ]
  },
  {
   "cell_type": "code",
   "execution_count": null,
   "id": "b9588226",
   "metadata": {},
   "outputs": [],
   "source": [
    "\n",
    "import pandas as pd\n",
    "import matplotlib.pyplot as plt\n",
    "from statsmodels.tsa.seasonal import seasonal_decompose\n",
    "\n",
    "# Load the multivariate time series data\n",
    "data = pd.read_csv('/mnt/data/multivariate_timeseries.csv', index_col=0, parse_dates=True)\n",
    "\n",
    "# Visualize each series in the multivariate dataset\n",
    "fig, axes = plt.subplots(nrows=3, ncols=1, figsize=(10, 8), sharex=True)\n",
    "for i, col in enumerate(data.columns):\n",
    "    axes[i].plot(data[col].dropna(), label=f'Series {i+1}')\n",
    "    axes[i].set_title(f'Series {i+1}')\n",
    "    axes[i].legend()\n",
    "plt.tight_layout()\n",
    "plt.show()\n",
    "        "
   ]
  },
  {
   "cell_type": "markdown",
   "id": "34b9faf9",
   "metadata": {},
   "source": [
    "## Handling Non-Equal Lengths\n",
    "Pad shorter series to match the longest one in the dataset."
   ]
  },
  {
   "cell_type": "code",
   "execution_count": null,
   "id": "2dbdfac7",
   "metadata": {},
   "outputs": [],
   "source": [
    "\n",
    "# Padding non-equal length time series\n",
    "data_aligned = data.apply(lambda x: x.resample('D').pad())\n",
    "\n",
    "# Visualize the aligned data\n",
    "fig, axes = plt.subplots(nrows=3, ncols=1, figsize=(10, 8), sharex=True)\n",
    "for i, col in enumerate(data_aligned.columns):\n",
    "    axes[i].plot(data_aligned[col], label=f'Padded Series {i+1}')\n",
    "    axes[i].set_title(f'Padded Series {i+1}')\n",
    "    axes[i].legend()\n",
    "plt.tight_layout()\n",
    "plt.show()\n",
    "        "
   ]
  },
  {
   "cell_type": "markdown",
   "id": "95050c63",
   "metadata": {},
   "source": [
    "\n",
    "## Analyze with Kaggle Dataset\n",
    "Download a Kaggle time series dataset and apply the same analysis methods shown here.\n",
    "        "
   ]
  }
 ],
 "metadata": {},
 "nbformat": 4,
 "nbformat_minor": 5
}
