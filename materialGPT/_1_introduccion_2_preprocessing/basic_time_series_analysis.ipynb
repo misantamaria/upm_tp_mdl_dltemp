{
 "cells": [
  {
   "cell_type": "markdown",
   "id": "0a8448ac",
   "metadata": {},
   "source": [
    "# Time Series Analysis Exercises\n",
    "Explore basic EDA techniques for time series data."
   ]
  },
  {
   "cell_type": "code",
   "execution_count": null,
   "id": "da34a169",
   "metadata": {},
   "outputs": [],
   "source": [
    "\n",
    "import pandas as pd\n",
    "import matplotlib.pyplot as plt\n",
    "from statsmodels.tsa.seasonal import seasonal_decompose\n",
    "\n",
    "# Load the univariate time series data\n",
    "data = pd.read_csv('/mnt/data/univariate_timeseries.csv', index_col=0, parse_dates=True)\n",
    "\n",
    "# Visualize the time series\n",
    "plt.figure(figsize=(10, 4))\n",
    "plt.plot(data, label='Univariate Time Series')\n",
    "plt.title('Univariate Time Series')\n",
    "plt.legend()\n",
    "plt.show()\n",
    "        "
   ]
  },
  {
   "cell_type": "markdown",
   "id": "ad2275a5",
   "metadata": {},
   "source": [
    "## Time Series Length Analysis\n",
    "Check the total number of entries in the time series."
   ]
  },
  {
   "cell_type": "code",
   "execution_count": null,
   "id": "d476cc91",
   "metadata": {},
   "outputs": [],
   "source": [
    "\n",
    "# Display the length of the time series\n",
    "print(f\"Length of the time series: {len(data)}\")\n",
    "        "
   ]
  },
  {
   "cell_type": "markdown",
   "id": "5fc2572b",
   "metadata": {},
   "source": [
    "## Trend and Seasonality Analysis\n",
    "Decompose the time series to observe trends and seasonality."
   ]
  },
  {
   "cell_type": "code",
   "execution_count": null,
   "id": "8eb44530",
   "metadata": {},
   "outputs": [],
   "source": [
    "\n",
    "# Decomposing the time series\n",
    "result = seasonal_decompose(data, model='additive', period=12)\n",
    "result.plot()\n",
    "plt.show()\n",
    "        "
   ]
  },
  {
   "cell_type": "markdown",
   "id": "638f0064",
   "metadata": {},
   "source": [
    "\n",
    "## Exercise: Analyze a New CSV\n",
    "Load a new CSV file and repeat the trend and seasonality analysis.\n",
    "\n",
    "## Exercise: Generate Synthetic Time Series\n",
    "Create a synthetic time series with specific trend and seasonality, and analyze it.\n",
    "        "
   ]
  },
  {
   "cell_type": "code",
   "execution_count": null,
   "id": "64831d68",
   "metadata": {},
   "outputs": [],
   "source": [
    "\n",
    "# Generate a synthetic time series\n",
    "import numpy as np\n",
    "np.random.seed(0)\n",
    "synthetic_data = pd.DataFrame({\n",
    "    'Time': pd.date_range(start='2021-01-01', periods=100, freq='D'),\n",
    "    'Value': np.random.normal(loc=0, scale=1, size=100).cumsum() + 50\n",
    "})\n",
    "synthetic_data.set_index('Time', inplace=True)\n",
    "\n",
    "# Plot synthetic data\n",
    "plt.figure(figsize=(10, 4))\n",
    "plt.plot(synthetic_data, label='Synthetic Time Series')\n",
    "plt.title('Synthetic Time Series')\n",
    "plt.legend()\n",
    "plt.show()\n",
    "\n",
    "# Decompose synthetic data\n",
    "result_synthetic = seasonal_decompose(synthetic_data, model='additive', period=12)\n",
    "result_synthetic.plot()\n",
    "plt.show()\n",
    "        "
   ]
  }
 ],
 "metadata": {},
 "nbformat": 4,
 "nbformat_minor": 5
}
